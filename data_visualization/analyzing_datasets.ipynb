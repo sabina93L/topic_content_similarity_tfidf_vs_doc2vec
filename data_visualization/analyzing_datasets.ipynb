{
 "cells": [
  {
   "cell_type": "markdown",
   "id": "369f4879",
   "metadata": {},
   "source": [
    "# Import Content and Topics datasets"
   ]
  },
  {
   "cell_type": "code",
   "execution_count": 1,
   "id": "6aa941bb",
   "metadata": {},
   "outputs": [],
   "source": [
    "import matplotlib.pyplot as plt\n",
    "import pandas as pd\n",
    "content_data = pd.read_csv(\"content.csv\")\n",
    "topics_data = pd.read_csv(\"topics.csv\")\n"
   ]
  },
  {
   "cell_type": "code",
   "execution_count": 2,
   "id": "5bf59918",
   "metadata": {},
   "outputs": [
    {
     "data": {
      "text/html": [
       "<div>\n",
       "<style scoped>\n",
       "    .dataframe tbody tr th:only-of-type {\n",
       "        vertical-align: middle;\n",
       "    }\n",
       "\n",
       "    .dataframe tbody tr th {\n",
       "        vertical-align: top;\n",
       "    }\n",
       "\n",
       "    .dataframe thead th {\n",
       "        text-align: right;\n",
       "    }\n",
       "</style>\n",
       "<table border=\"1\" class=\"dataframe\">\n",
       "  <thead>\n",
       "    <tr style=\"text-align: right;\">\n",
       "      <th></th>\n",
       "      <th>id</th>\n",
       "      <th>title</th>\n",
       "      <th>description</th>\n",
       "      <th>channel</th>\n",
       "      <th>category</th>\n",
       "      <th>level</th>\n",
       "      <th>language</th>\n",
       "      <th>parent</th>\n",
       "      <th>has_content</th>\n",
       "    </tr>\n",
       "  </thead>\n",
       "  <tbody>\n",
       "    <tr>\n",
       "      <th>0</th>\n",
       "      <td>t_00004da3a1b2</td>\n",
       "      <td>Откриването на резисторите</td>\n",
       "      <td>Изследване на материали, които предизвикват на...</td>\n",
       "      <td>000cf7</td>\n",
       "      <td>source</td>\n",
       "      <td>4</td>\n",
       "      <td>bg</td>\n",
       "      <td>t_16e29365b50d</td>\n",
       "      <td>True</td>\n",
       "    </tr>\n",
       "    <tr>\n",
       "      <th>1</th>\n",
       "      <td>t_000095e03056</td>\n",
       "      <td>Unit 3.3 Enlargements and Similarities</td>\n",
       "      <td>NaN</td>\n",
       "      <td>b3f329</td>\n",
       "      <td>aligned</td>\n",
       "      <td>2</td>\n",
       "      <td>en</td>\n",
       "      <td>t_aa32fb6252dc</td>\n",
       "      <td>False</td>\n",
       "    </tr>\n",
       "    <tr>\n",
       "      <th>2</th>\n",
       "      <td>t_00068291e9a4</td>\n",
       "      <td>Entradas e saídas de uma função</td>\n",
       "      <td>Entenda um pouco mais sobre funções.</td>\n",
       "      <td>8e286a</td>\n",
       "      <td>source</td>\n",
       "      <td>4</td>\n",
       "      <td>pt</td>\n",
       "      <td>t_d14b6c2a2b70</td>\n",
       "      <td>True</td>\n",
       "    </tr>\n",
       "    <tr>\n",
       "      <th>3</th>\n",
       "      <td>t_00069b63a70a</td>\n",
       "      <td>Transcripts</td>\n",
       "      <td>NaN</td>\n",
       "      <td>6e3ba4</td>\n",
       "      <td>source</td>\n",
       "      <td>3</td>\n",
       "      <td>en</td>\n",
       "      <td>t_4054df11a74e</td>\n",
       "      <td>True</td>\n",
       "    </tr>\n",
       "    <tr>\n",
       "      <th>4</th>\n",
       "      <td>t_0006d41a73a8</td>\n",
       "      <td>Графики на експоненциални функции (Алгебра 2 н...</td>\n",
       "      <td>Научи повече за графиките на сложните показате...</td>\n",
       "      <td>000cf7</td>\n",
       "      <td>source</td>\n",
       "      <td>4</td>\n",
       "      <td>bg</td>\n",
       "      <td>t_e2452e21d252</td>\n",
       "      <td>True</td>\n",
       "    </tr>\n",
       "    <tr>\n",
       "      <th>5</th>\n",
       "      <td>t_0008768bdee6</td>\n",
       "      <td>100 સુધીનો સરવાળો</td>\n",
       "      <td>37 અને 49 જેવી બે-અંકની સંખ્યાઓ ઉમેરતા શીખો.</td>\n",
       "      <td>5223e0</td>\n",
       "      <td>supplemental</td>\n",
       "      <td>4</td>\n",
       "      <td>gu</td>\n",
       "      <td>t_0da7a331d666</td>\n",
       "      <td>True</td>\n",
       "    </tr>\n",
       "    <tr>\n",
       "      <th>6</th>\n",
       "      <td>t_0008a1bd84ba</td>\n",
       "      <td>12. 20: Bird Reproduction</td>\n",
       "      <td>NaN</td>\n",
       "      <td>ebc86c</td>\n",
       "      <td>supplemental</td>\n",
       "      <td>5</td>\n",
       "      <td>en</td>\n",
       "      <td>t_c44ac9711007</td>\n",
       "      <td>True</td>\n",
       "    </tr>\n",
       "    <tr>\n",
       "      <th>7</th>\n",
       "      <td>t_000c0c854f0b</td>\n",
       "      <td>Nepal</td>\n",
       "      <td>NaN</td>\n",
       "      <td>f2e966</td>\n",
       "      <td>source</td>\n",
       "      <td>1</td>\n",
       "      <td>en</td>\n",
       "      <td>t_f9c4ef0d6290</td>\n",
       "      <td>False</td>\n",
       "    </tr>\n",
       "    <tr>\n",
       "      <th>8</th>\n",
       "      <td>t_000d1fb3f2f5</td>\n",
       "      <td>2.1.2 - Logarithms</td>\n",
       "      <td>NaN</td>\n",
       "      <td>e77b55</td>\n",
       "      <td>aligned</td>\n",
       "      <td>5</td>\n",
       "      <td>en</td>\n",
       "      <td>t_b897d168db90</td>\n",
       "      <td>True</td>\n",
       "    </tr>\n",
       "    <tr>\n",
       "      <th>9</th>\n",
       "      <td>t_000feba42136</td>\n",
       "      <td>As vacinas</td>\n",
       "      <td>NaN</td>\n",
       "      <td>8e286a</td>\n",
       "      <td>source</td>\n",
       "      <td>4</td>\n",
       "      <td>pt</td>\n",
       "      <td>t_dfc8ec591573</td>\n",
       "      <td>True</td>\n",
       "    </tr>\n",
       "  </tbody>\n",
       "</table>\n",
       "</div>"
      ],
      "text/plain": [
       "               id                                              title  \\\n",
       "0  t_00004da3a1b2                         Откриването на резисторите   \n",
       "1  t_000095e03056             Unit 3.3 Enlargements and Similarities   \n",
       "2  t_00068291e9a4                    Entradas e saídas de uma função   \n",
       "3  t_00069b63a70a                                        Transcripts   \n",
       "4  t_0006d41a73a8  Графики на експоненциални функции (Алгебра 2 н...   \n",
       "5  t_0008768bdee6                                  100 સુધીનો સરવાળો   \n",
       "6  t_0008a1bd84ba                          12. 20: Bird Reproduction   \n",
       "7  t_000c0c854f0b                                              Nepal   \n",
       "8  t_000d1fb3f2f5                                 2.1.2 - Logarithms   \n",
       "9  t_000feba42136                                         As vacinas   \n",
       "\n",
       "                                         description channel      category  \\\n",
       "0  Изследване на материали, които предизвикват на...  000cf7        source   \n",
       "1                                                NaN  b3f329       aligned   \n",
       "2               Entenda um pouco mais sobre funções.  8e286a        source   \n",
       "3                                                NaN  6e3ba4        source   \n",
       "4  Научи повече за графиките на сложните показате...  000cf7        source   \n",
       "5       37 અને 49 જેવી બે-અંકની સંખ્યાઓ ઉમેરતા શીખો.  5223e0  supplemental   \n",
       "6                                                NaN  ebc86c  supplemental   \n",
       "7                                                NaN  f2e966        source   \n",
       "8                                                NaN  e77b55       aligned   \n",
       "9                                                NaN  8e286a        source   \n",
       "\n",
       "   level language          parent  has_content  \n",
       "0      4       bg  t_16e29365b50d         True  \n",
       "1      2       en  t_aa32fb6252dc        False  \n",
       "2      4       pt  t_d14b6c2a2b70         True  \n",
       "3      3       en  t_4054df11a74e         True  \n",
       "4      4       bg  t_e2452e21d252         True  \n",
       "5      4       gu  t_0da7a331d666         True  \n",
       "6      5       en  t_c44ac9711007         True  \n",
       "7      1       en  t_f9c4ef0d6290        False  \n",
       "8      5       en  t_b897d168db90         True  \n",
       "9      4       pt  t_dfc8ec591573         True  "
      ]
     },
     "execution_count": 2,
     "metadata": {},
     "output_type": "execute_result"
    }
   ],
   "source": [
    "topics_data.head(10)"
   ]
  },
  {
   "cell_type": "code",
   "execution_count": 3,
   "id": "f3eddc17",
   "metadata": {},
   "outputs": [
    {
     "data": {
      "text/html": [
       "<div>\n",
       "<style scoped>\n",
       "    .dataframe tbody tr th:only-of-type {\n",
       "        vertical-align: middle;\n",
       "    }\n",
       "\n",
       "    .dataframe tbody tr th {\n",
       "        vertical-align: top;\n",
       "    }\n",
       "\n",
       "    .dataframe thead th {\n",
       "        text-align: right;\n",
       "    }\n",
       "</style>\n",
       "<table border=\"1\" class=\"dataframe\">\n",
       "  <thead>\n",
       "    <tr style=\"text-align: right;\">\n",
       "      <th></th>\n",
       "      <th>id</th>\n",
       "      <th>title</th>\n",
       "      <th>description</th>\n",
       "      <th>kind</th>\n",
       "      <th>text</th>\n",
       "      <th>language</th>\n",
       "      <th>copyright_holder</th>\n",
       "      <th>license</th>\n",
       "    </tr>\n",
       "  </thead>\n",
       "  <tbody>\n",
       "    <tr>\n",
       "      <th>0</th>\n",
       "      <td>c_00002381196d</td>\n",
       "      <td>Sumar números de varios dígitos: 48,029+233,930</td>\n",
       "      <td>Suma 48,029+233,930 mediante el algoritmo está...</td>\n",
       "      <td>video</td>\n",
       "      <td>NaN</td>\n",
       "      <td>es</td>\n",
       "      <td>NaN</td>\n",
       "      <td>NaN</td>\n",
       "    </tr>\n",
       "    <tr>\n",
       "      <th>1</th>\n",
       "      <td>c_000087304a9e</td>\n",
       "      <td>Trovare i fattori di un numero</td>\n",
       "      <td>Sal trova i fattori di 120.\\n\\n</td>\n",
       "      <td>video</td>\n",
       "      <td>NaN</td>\n",
       "      <td>it</td>\n",
       "      <td>NaN</td>\n",
       "      <td>NaN</td>\n",
       "    </tr>\n",
       "    <tr>\n",
       "      <th>2</th>\n",
       "      <td>c_0000ad142ddb</td>\n",
       "      <td>Sumar curvas de demanda</td>\n",
       "      <td>Cómo añadir curvas de demanda\\n\\n</td>\n",
       "      <td>video</td>\n",
       "      <td>NaN</td>\n",
       "      <td>es</td>\n",
       "      <td>NaN</td>\n",
       "      <td>NaN</td>\n",
       "    </tr>\n",
       "    <tr>\n",
       "      <th>3</th>\n",
       "      <td>c_0000c03adc8d</td>\n",
       "      <td>Nado de aproximação</td>\n",
       "      <td>Neste vídeo você vai aprender o nado de aproxi...</td>\n",
       "      <td>document</td>\n",
       "      <td>\\nNado de aproximação\\nSaber nadar nas ondas ...</td>\n",
       "      <td>pt</td>\n",
       "      <td>Sikana Education</td>\n",
       "      <td>CC BY-NC-ND</td>\n",
       "    </tr>\n",
       "    <tr>\n",
       "      <th>4</th>\n",
       "      <td>c_00016694ea2a</td>\n",
       "      <td>geometry-m3-topic-a-overview.pdf</td>\n",
       "      <td>geometry-m3-topic-a-overview.pdf</td>\n",
       "      <td>document</td>\n",
       "      <td>Estándares Comunes del Estado de Nueva York\\n\\...</td>\n",
       "      <td>es</td>\n",
       "      <td>Engage NY</td>\n",
       "      <td>CC BY-NC-SA</td>\n",
       "    </tr>\n",
       "    <tr>\n",
       "      <th>5</th>\n",
       "      <td>c_00019840d110</td>\n",
       "      <td>5.12E: Regulation of the Calvin Cycle</td>\n",
       "      <td>NaN</td>\n",
       "      <td>html5</td>\n",
       "      <td>LEARNING OBJECTIVES\\n\\nOutline the three major...</td>\n",
       "      <td>en</td>\n",
       "      <td>CSU and Merlot</td>\n",
       "      <td>CC BY-NC-SA</td>\n",
       "    </tr>\n",
       "    <tr>\n",
       "      <th>6</th>\n",
       "      <td>c_0001ec56e20f</td>\n",
       "      <td>Reflexionemos sobre lo que vemos y escuchamos</td>\n",
       "      <td>NaN</td>\n",
       "      <td>document</td>\n",
       "      <td>Lección\\n\\n7\\n\\nReflexionemos sobre lo que\\nve...</td>\n",
       "      <td>es</td>\n",
       "      <td>Publicado por el Lic. Edelberto Andino(edelber...</td>\n",
       "      <td>CC BY-NC-SA</td>\n",
       "    </tr>\n",
       "    <tr>\n",
       "      <th>7</th>\n",
       "      <td>c_00025aaa1533</td>\n",
       "      <td>अंग्रेजी ओके प्लीज 1.2</td>\n",
       "      <td>source_url=http://www.prathamopenschool.org/Co...</td>\n",
       "      <td>video</td>\n",
       "      <td>NaN</td>\n",
       "      <td>mr</td>\n",
       "      <td>NaN</td>\n",
       "      <td>NaN</td>\n",
       "    </tr>\n",
       "    <tr>\n",
       "      <th>8</th>\n",
       "      <td>c_00027d03ca7d</td>\n",
       "      <td>4.E: Genomes and Chromosomes (Exercises)</td>\n",
       "      <td>NaN</td>\n",
       "      <td>html5</td>\n",
       "      <td>4.3\\n\\n(BPA) Answer the following questions wi...</td>\n",
       "      <td>en</td>\n",
       "      <td>CSU and Merlot</td>\n",
       "      <td>CC BY-NC-SA</td>\n",
       "    </tr>\n",
       "    <tr>\n",
       "      <th>9</th>\n",
       "      <td>c_000314eb850f</td>\n",
       "      <td>La banca 12: los bonos del tesoro (deuda pública)</td>\n",
       "      <td>Introducción a la deuda y los fondos públicos....</td>\n",
       "      <td>video</td>\n",
       "      <td>NaN</td>\n",
       "      <td>es</td>\n",
       "      <td>NaN</td>\n",
       "      <td>NaN</td>\n",
       "    </tr>\n",
       "  </tbody>\n",
       "</table>\n",
       "</div>"
      ],
      "text/plain": [
       "               id                                              title  \\\n",
       "0  c_00002381196d   Sumar números de varios dígitos: 48,029+233,930    \n",
       "1  c_000087304a9e                     Trovare i fattori di un numero   \n",
       "2  c_0000ad142ddb                            Sumar curvas de demanda   \n",
       "3  c_0000c03adc8d                                Nado de aproximação   \n",
       "4  c_00016694ea2a                   geometry-m3-topic-a-overview.pdf   \n",
       "5  c_00019840d110              5.12E: Regulation of the Calvin Cycle   \n",
       "6  c_0001ec56e20f      Reflexionemos sobre lo que vemos y escuchamos   \n",
       "7  c_00025aaa1533                             अंग्रेजी ओके प्लीज 1.2   \n",
       "8  c_00027d03ca7d           4.E: Genomes and Chromosomes (Exercises)   \n",
       "9  c_000314eb850f  La banca 12: los bonos del tesoro (deuda pública)   \n",
       "\n",
       "                                         description      kind  \\\n",
       "0  Suma 48,029+233,930 mediante el algoritmo está...     video   \n",
       "1                    Sal trova i fattori di 120.\\n\\n     video   \n",
       "2                  Cómo añadir curvas de demanda\\n\\n     video   \n",
       "3  Neste vídeo você vai aprender o nado de aproxi...  document   \n",
       "4                   geometry-m3-topic-a-overview.pdf  document   \n",
       "5                                                NaN     html5   \n",
       "6                                                NaN  document   \n",
       "7  source_url=http://www.prathamopenschool.org/Co...     video   \n",
       "8                                                NaN     html5   \n",
       "9  Introducción a la deuda y los fondos públicos....     video   \n",
       "\n",
       "                                                text language  \\\n",
       "0                                                NaN       es   \n",
       "1                                                NaN       it   \n",
       "2                                                NaN       es   \n",
       "3  \\nNado de aproximação\\nSaber nadar nas ondas ...       pt   \n",
       "4  Estándares Comunes del Estado de Nueva York\\n\\...       es   \n",
       "5  LEARNING OBJECTIVES\\n\\nOutline the three major...       en   \n",
       "6  Lección\\n\\n7\\n\\nReflexionemos sobre lo que\\nve...       es   \n",
       "7                                                NaN       mr   \n",
       "8  4.3\\n\\n(BPA) Answer the following questions wi...       en   \n",
       "9                                                NaN       es   \n",
       "\n",
       "                                    copyright_holder      license  \n",
       "0                                                NaN          NaN  \n",
       "1                                                NaN          NaN  \n",
       "2                                                NaN          NaN  \n",
       "3                                   Sikana Education  CC BY-NC-ND  \n",
       "4                                          Engage NY  CC BY-NC-SA  \n",
       "5                                     CSU and Merlot  CC BY-NC-SA  \n",
       "6  Publicado por el Lic. Edelberto Andino(edelber...  CC BY-NC-SA  \n",
       "7                                                NaN          NaN  \n",
       "8                                     CSU and Merlot  CC BY-NC-SA  \n",
       "9                                                NaN          NaN  "
      ]
     },
     "execution_count": 3,
     "metadata": {},
     "output_type": "execute_result"
    }
   ],
   "source": [
    "content_data.head(10)"
   ]
  },
  {
   "cell_type": "code",
   "execution_count": 2,
   "id": "913f786f",
   "metadata": {},
   "outputs": [],
   "source": [
    "language_counts_topics = topics_data['language'].value_counts()\n",
    "language_counts_content = content_data['language'].value_counts()"
   ]
  },
  {
   "cell_type": "markdown",
   "id": "aa7f1295",
   "metadata": {},
   "source": [
    "Plot the language distribution in topics dataset"
   ]
  },
  {
   "cell_type": "code",
   "execution_count": 7,
   "id": "d467b62a",
   "metadata": {},
   "outputs": [
    {
     "data": {
      "image/png": "[encoded data removed]",
      "text/plain": [
       "<Figure size 720x432 with 1 Axes>"
      ]
     },
     "metadata": {
      "needs_background": "light"
     },
     "output_type": "display_data"
    }
   ],
   "source": [
    "plt.figure(figsize=(10, 6))\n",
    "language_counts_topics.plot(kind='bar')\n",
    "plt.title('Distribution of Languages in Topics')\n",
    "plt.xlabel('Languages')\n",
    "plt.ylabel('Number of Entries')\n",
    "plt.show()"
   ]
  },
  {
   "cell_type": "code",
   "execution_count": 9,
   "id": "75b0a556",
   "metadata": {},
   "outputs": [
    {
     "data": {
      "image/png": "[encoded data removed]",
      "text/plain": [
       "<Figure size 432x288 with 1 Axes>"
      ]
     },
     "metadata": {
      "needs_background": "light"
     },
     "output_type": "display_data"
    }
   ],
   "source": [
    "language_counts_content.plot(kind='bar')\n",
    "plt.title('Distribution of Languages in Content')\n",
    "plt.xlabel('Languages')\n",
    "plt.ylabel('Number of Entries')\n",
    "plt.show()"
   ]
  },
  {
   "cell_type": "markdown",
   "id": "543a4284",
   "metadata": {},
   "source": [
    "percentage of english"
   ]
  },
  {
   "cell_type": "code",
   "execution_count": 4,
   "id": "9c04b5a7",
   "metadata": {},
   "outputs": [
    {
     "data": {
      "text/plain": [
       "154047"
      ]
     },
     "execution_count": 4,
     "metadata": {},
     "output_type": "execute_result"
    }
   ],
   "source": [
    "total_lang_topics = language_counts_topics.sum()\n",
    "total_lang_content = language_counts_content.sum()\n",
    "\n",
    "total_lang_content"
   ]
  },
  {
   "cell_type": "code",
   "execution_count": 15,
   "id": "636ce411",
   "metadata": {},
   "outputs": [],
   "source": [
    "topics_in_english = (language_counts_topics['en'] / total_lang_topics) * 100\n",
    "content_in_english = (language_counts_content['en'] / total_lang_content) * 100"
   ]
  },
  {
   "cell_type": "code",
   "execution_count": 7,
   "id": "4bc7cf2e",
   "metadata": {},
   "outputs": [],
   "source": [
    "content_in_english = (language_counts_content['en'] )"
   ]
  },
  {
   "cell_type": "code",
   "execution_count": 8,
   "id": "f883e5e8",
   "metadata": {},
   "outputs": [
    {
     "data": {
      "text/plain": [
       "65939"
      ]
     },
     "execution_count": 8,
     "metadata": {},
     "output_type": "execute_result"
    }
   ],
   "source": [
    "content_in_english"
   ]
  },
  {
   "cell_type": "code",
   "execution_count": 13,
   "id": "5638535e",
   "metadata": {},
   "outputs": [
    {
     "data": {
      "text/plain": [
       "46.97942108818791"
      ]
     },
     "execution_count": 13,
     "metadata": {},
     "output_type": "execute_result"
    }
   ],
   "source": [
    "topics_in_english"
   ]
  },
  {
   "cell_type": "markdown",
   "id": "b7901321",
   "metadata": {},
   "source": [
    "number of unique languages in topics and content datasets."
   ]
  },
  {
   "cell_type": "code",
   "execution_count": 25,
   "id": "222128f0",
   "metadata": {},
   "outputs": [],
   "source": [
    "unique_lang_topics = topics_data['language'].unique()\n",
    "unique_lang_content = content_data['language'].unique()"
   ]
  },
  {
   "cell_type": "code",
   "execution_count": 19,
   "id": "0b8633bc",
   "metadata": {},
   "outputs": [
    {
     "data": {
      "text/plain": [
       "array(['bg', 'en', 'pt', 'gu', 'my', 'zh', 'ar', 'te', 'es', 'fr', 'sw',\n",
       "       'mr', 'hi', 'bn', 'fil', 'ru', 'it', 'or', 'pnb', 'km', 'as', 'kn',\n",
       "       'ur', 'pl', 'ta', 'swa', 'tr', 'mul'], dtype=object)"
      ]
     },
     "execution_count": 19,
     "metadata": {},
     "output_type": "execute_result"
    }
   ],
   "source": [
    "unique_lang_topics"
   ]
  },
  {
   "cell_type": "code",
   "execution_count": 26,
   "id": "00ad0713",
   "metadata": {},
   "outputs": [
    {
     "data": {
      "text/plain": [
       "array(['es', 'it', 'pt', 'en', 'mr', 'bg', 'gu', 'sw', 'hi', 'ar', 'bn',\n",
       "       'as', 'zh', 'fr', 'km', 'pl', 'ta', 'fil', 'or', 'ru', 'kn', 'swa',\n",
       "       'my', 'pnb', 'tr', 'te', 'ur'], dtype=object)"
      ]
     },
     "execution_count": 26,
     "metadata": {},
     "output_type": "execute_result"
    }
   ],
   "source": [
    "unique_lang_content"
   ]
  },
  {
   "cell_type": "code",
   "execution_count": 27,
   "id": "cabe2161",
   "metadata": {},
   "outputs": [],
   "source": [
    "num_uniq_lang_topics = topics_data['language'].nunique()\n",
    "num_uniq_lang_content = content_data['language'].nunique()"
   ]
  },
  {
   "cell_type": "code",
   "execution_count": 24,
   "id": "c959d4d2",
   "metadata": {},
   "outputs": [
    {
     "data": {
      "text/plain": [
       "28"
      ]
     },
     "execution_count": 24,
     "metadata": {},
     "output_type": "execute_result"
    }
   ],
   "source": [
    "num_uniq_lang_topics"
   ]
  },
  {
   "cell_type": "code",
   "execution_count": 28,
   "id": "ad163255",
   "metadata": {},
   "outputs": [
    {
     "data": {
      "text/plain": [
       "27"
      ]
     },
     "execution_count": 28,
     "metadata": {},
     "output_type": "execute_result"
    }
   ],
   "source": [
    "num_uniq_lang_content"
   ]
  }
 ],
 "metadata": {
  "kernelspec": {
   "display_name": "Python 3 (ipykernel)",
   "language": "python",
   "name": "python3"
  },
  "language_info": {
   "codemirror_mode": {
    "name": "ipython",
    "version": 3
   },
   "file_extension": ".py",
   "mimetype": "text/x-python",
   "name": "python",
   "nbconvert_exporter": "python",
   "pygments_lexer": "ipython3",
   "version": "3.9.7"
  }
 },
 "nbformat": 4,
 "nbformat_minor": 5
}
