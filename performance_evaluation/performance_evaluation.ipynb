{
 "cells": [
  {
   "cell_type": "code",
   "execution_count": 2,
   "id": "da9d16c5",
   "metadata": {},
   "outputs": [],
   "source": [
    "import pandas as pd\n",
    "from sklearn.metrics import jaccard_score\n",
    "from sklearn.metrics import classification_report\n",
    "import seaborn as sns\n",
    "import matplotlib.pyplot as plt\n",
    "import numpy as np"
   ]
  },
  {
   "cell_type": "code",
   "execution_count": 19,
   "id": "7a771a9a",
   "metadata": {},
   "outputs": [],
   "source": [
    "result_tf_idf = pd.read_csv(\"results_tf_idf.csv\")\n",
    "result_doc2vec = pd.read_csv(\"results_doc2vec.csv\")\n",
    "correlation = pd.read_csv(\"ground_truth.csv\")"
   ]
  },
  {
   "cell_type": "code",
   "execution_count": 20,
   "id": "155564f5",
   "metadata": {},
   "outputs": [
    {
     "data": {
      "text/html": [
       "<div>\n",
       "<style scoped>\n",
       "    .dataframe tbody tr th:only-of-type {\n",
       "        vertical-align: middle;\n",
       "    }\n",
       "\n",
       "    .dataframe tbody tr th {\n",
       "        vertical-align: top;\n",
       "    }\n",
       "\n",
       "    .dataframe thead th {\n",
       "        text-align: right;\n",
       "    }\n",
       "</style>\n",
       "<table border=\"1\" class=\"dataframe\">\n",
       "  <thead>\n",
       "    <tr style=\"text-align: right;\">\n",
       "      <th></th>\n",
       "      <th>topic_id</th>\n",
       "      <th>content_ids</th>\n",
       "    </tr>\n",
       "  </thead>\n",
       "  <tbody>\n",
       "    <tr>\n",
       "      <th>0</th>\n",
       "      <td>t_00004da3a1b2</td>\n",
       "      <td>c_0feaaa5dc39d c_1108dd0c7a5d c_dfa229bd21df</td>\n",
       "    </tr>\n",
       "    <tr>\n",
       "      <th>1</th>\n",
       "      <td>t_00068291e9a4</td>\n",
       "      <td>c_035baf9425e0 c_0e9282e0fc8e c_530d7272fb7b c...</td>\n",
       "    </tr>\n",
       "    <tr>\n",
       "      <th>2</th>\n",
       "      <td>t_00069b63a70a</td>\n",
       "      <td>c_11a1dc0bfb99 c_3695c5dc1df6 c_675d0cbdb501 c...</td>\n",
       "    </tr>\n",
       "    <tr>\n",
       "      <th>3</th>\n",
       "      <td>t_0006d41a73a8</td>\n",
       "      <td>c_02261c51c9d6 c_068fc388295f c_0907f40037c6 c...</td>\n",
       "    </tr>\n",
       "    <tr>\n",
       "      <th>4</th>\n",
       "      <td>t_000feba42136</td>\n",
       "      <td>c_304ee4f59410 c_ec6416377746</td>\n",
       "    </tr>\n",
       "  </tbody>\n",
       "</table>\n",
       "</div>"
      ],
      "text/plain": [
       "         topic_id                                        content_ids\n",
       "0  t_00004da3a1b2       c_0feaaa5dc39d c_1108dd0c7a5d c_dfa229bd21df\n",
       "1  t_00068291e9a4  c_035baf9425e0 c_0e9282e0fc8e c_530d7272fb7b c...\n",
       "2  t_00069b63a70a  c_11a1dc0bfb99 c_3695c5dc1df6 c_675d0cbdb501 c...\n",
       "3  t_0006d41a73a8  c_02261c51c9d6 c_068fc388295f c_0907f40037c6 c...\n",
       "4  t_000feba42136                      c_304ee4f59410 c_ec6416377746"
      ]
     },
     "execution_count": 20,
     "metadata": {},
     "output_type": "execute_result"
    }
   ],
   "source": [
    "result_tf_idf.head(5)"
   ]
  },
  {
   "cell_type": "code",
   "execution_count": 21,
   "id": "592bdaa0",
   "metadata": {},
   "outputs": [
    {
     "data": {
      "text/html": [
       "<div>\n",
       "<style scoped>\n",
       "    .dataframe tbody tr th:only-of-type {\n",
       "        vertical-align: middle;\n",
       "    }\n",
       "\n",
       "    .dataframe tbody tr th {\n",
       "        vertical-align: top;\n",
       "    }\n",
       "\n",
       "    .dataframe thead th {\n",
       "        text-align: right;\n",
       "    }\n",
       "</style>\n",
       "<table border=\"1\" class=\"dataframe\">\n",
       "  <thead>\n",
       "    <tr style=\"text-align: right;\">\n",
       "      <th></th>\n",
       "      <th>topic_id</th>\n",
       "      <th>content_ids</th>\n",
       "    </tr>\n",
       "  </thead>\n",
       "  <tbody>\n",
       "    <tr>\n",
       "      <th>0</th>\n",
       "      <td>t_00004da3a1b2</td>\n",
       "      <td>c_0feaaa5dc39d c_dfa229bd21df</td>\n",
       "    </tr>\n",
       "    <tr>\n",
       "      <th>1</th>\n",
       "      <td>t_00068291e9a4</td>\n",
       "      <td>c_035baf9425e0 c_399f168ecbc6 c_639ea2ef9c95 c...</td>\n",
       "    </tr>\n",
       "    <tr>\n",
       "      <th>2</th>\n",
       "      <td>t_00069b63a70a</td>\n",
       "      <td>c_041e5b1c3d6d c_085bdb40bc20 c_0962c05cc441 c...</td>\n",
       "    </tr>\n",
       "    <tr>\n",
       "      <th>3</th>\n",
       "      <td>t_0006d41a73a8</td>\n",
       "      <td>c_08f2c6c824f5 c_0c6473c3480d c_1778d4146e9c c...</td>\n",
       "    </tr>\n",
       "    <tr>\n",
       "      <th>4</th>\n",
       "      <td>t_000feba42136</td>\n",
       "      <td>c_0235b1b1c100 c_03ef55db4beb c_04c84d96a5ac c...</td>\n",
       "    </tr>\n",
       "  </tbody>\n",
       "</table>\n",
       "</div>"
      ],
      "text/plain": [
       "         topic_id                                        content_ids\n",
       "0  t_00004da3a1b2                      c_0feaaa5dc39d c_dfa229bd21df\n",
       "1  t_00068291e9a4  c_035baf9425e0 c_399f168ecbc6 c_639ea2ef9c95 c...\n",
       "2  t_00069b63a70a  c_041e5b1c3d6d c_085bdb40bc20 c_0962c05cc441 c...\n",
       "3  t_0006d41a73a8  c_08f2c6c824f5 c_0c6473c3480d c_1778d4146e9c c...\n",
       "4  t_000feba42136  c_0235b1b1c100 c_03ef55db4beb c_04c84d96a5ac c..."
      ]
     },
     "execution_count": 21,
     "metadata": {},
     "output_type": "execute_result"
    }
   ],
   "source": [
    "result_doc2vec.head(5)"
   ]
  },
  {
   "cell_type": "code",
   "execution_count": 22,
   "id": "892aff0e",
   "metadata": {},
   "outputs": [
    {
     "data": {
      "text/html": [
       "<div>\n",
       "<style scoped>\n",
       "    .dataframe tbody tr th:only-of-type {\n",
       "        vertical-align: middle;\n",
       "    }\n",
       "\n",
       "    .dataframe tbody tr th {\n",
       "        vertical-align: top;\n",
       "    }\n",
       "\n",
       "    .dataframe thead th {\n",
       "        text-align: right;\n",
       "    }\n",
       "</style>\n",
       "<table border=\"1\" class=\"dataframe\">\n",
       "  <thead>\n",
       "    <tr style=\"text-align: right;\">\n",
       "      <th></th>\n",
       "      <th>topic_id</th>\n",
       "      <th>content_ids</th>\n",
       "    </tr>\n",
       "  </thead>\n",
       "  <tbody>\n",
       "    <tr>\n",
       "      <th>0</th>\n",
       "      <td>t_00004da3a1b2</td>\n",
       "      <td>c_1108dd0c7a5d c_376c5a8eb028 c_5bc0e1e2cba0 c...</td>\n",
       "    </tr>\n",
       "    <tr>\n",
       "      <th>1</th>\n",
       "      <td>t_00068291e9a4</td>\n",
       "      <td>c_639ea2ef9c95 c_89ce9367be10 c_ac1672cdcd2c c...</td>\n",
       "    </tr>\n",
       "    <tr>\n",
       "      <th>2</th>\n",
       "      <td>t_00069b63a70a</td>\n",
       "      <td>c_11a1dc0bfb99</td>\n",
       "    </tr>\n",
       "    <tr>\n",
       "      <th>3</th>\n",
       "      <td>t_0006d41a73a8</td>\n",
       "      <td>c_0c6473c3480d c_1c57a1316568 c_5e375cf14c47 c...</td>\n",
       "    </tr>\n",
       "    <tr>\n",
       "      <th>4</th>\n",
       "      <td>t_000feba42136</td>\n",
       "      <td>c_2bbc650030f4 c_304ee4f59410</td>\n",
       "    </tr>\n",
       "  </tbody>\n",
       "</table>\n",
       "</div>"
      ],
      "text/plain": [
       "         topic_id                                        content_ids\n",
       "0  t_00004da3a1b2  c_1108dd0c7a5d c_376c5a8eb028 c_5bc0e1e2cba0 c...\n",
       "1  t_00068291e9a4  c_639ea2ef9c95 c_89ce9367be10 c_ac1672cdcd2c c...\n",
       "2  t_00069b63a70a                                     c_11a1dc0bfb99\n",
       "3  t_0006d41a73a8  c_0c6473c3480d c_1c57a1316568 c_5e375cf14c47 c...\n",
       "4  t_000feba42136                      c_2bbc650030f4 c_304ee4f59410"
      ]
     },
     "execution_count": 22,
     "metadata": {},
     "output_type": "execute_result"
    }
   ],
   "source": [
    "correlation.head(5)"
   ]
  },
  {
   "cell_type": "code",
   "execution_count": 23,
   "id": "6c2b8e3d",
   "metadata": {},
   "outputs": [],
   "source": [
    "# Merge the two DataFrames on 'topic_id' column\n",
    "merged_df_doc2vec = result_doc2vec.merge(correlation, on ='topic_id', suffixes=('_predicted', '_actual'))\n",
    "merged_df_tf_idf = result_tf_idf.merge(correlation, on ='topic_id', suffixes=('_predicted', '_actual'))"
   ]
  },
  {
   "cell_type": "code",
   "execution_count": 24,
   "id": "1a500e95",
   "metadata": {},
   "outputs": [],
   "source": [
    "# Function to calculate precision and recall for each row\n",
    "def calculate_precision_recall(row):\n",
    "    predicted_set = set()\n",
    "    actual_set = set()\n",
    "    \n",
    "    if isinstance(row['content_ids_predicted'], str):\n",
    "        predicted_set.update(row['content_ids_predicted'].split())\n",
    "        \n",
    "    if isinstance(row['content_ids_actual'], str):\n",
    "        actual_set.update(row['content_ids_actual'].split())\n",
    "    \n",
    "    # Calculate True Positives (TP), False Positives (FP), and False Negatives (FN)\n",
    "    TP = len(predicted_set.intersection(actual_set))\n",
    "    FP = len(predicted_set.difference(actual_set))\n",
    "    FN = len(actual_set.difference(predicted_set))\n",
    "    \n",
    "    # Calculate precision and recall with checks for zero denominators\n",
    "    precision = (TP / (TP + FP) if TP + FP > 0 else 0.0) * 100\n",
    "    recall = (TP / (TP + FN) if TP + FN > 0 else 0.0) * 100\n",
    "\n",
    "    return precision, recall"
   ]
  },
  {
   "cell_type": "code",
   "execution_count": 25,
   "id": "7d19de84",
   "metadata": {},
   "outputs": [],
   "source": [
    "# Apply the function to each row of the merged DataFrame\n",
    "merged_df_doc2vec['precision'], merged_df_doc2vec['recall'] = zip(*merged_df_doc2vec.apply(calculate_precision_recall, axis=1))\n",
    "merged_df_tf_idf['precision'], merged_df_tf_idf['recall'] = zip(*merged_df_tf_idf.apply(calculate_precision_recall, axis=1))\n"
   ]
  },
  {
   "cell_type": "code",
   "execution_count": 26,
   "id": "45083166",
   "metadata": {},
   "outputs": [],
   "source": [
    "# Calculate overall precision and recall\n",
    "overall_precision_doc2vec = merged_df_doc2vec['precision'].mean()\n",
    "overall_recall_doc2vec = merged_df_doc2vec['recall'].mean()\n",
    "f2measure_doc2vec = ((5*overall_precision_doc2vec) * overall_recall_doc2vec)/ ((4*overall_precision_doc2vec) + overall_recall_doc2vec)\n",
    "\n",
    "overall_precision_tf_idf = merged_df_tf_idf['precision'].mean()\n",
    "overall_recall_tf_idf = merged_df_tf_idf['recall'].mean()\n",
    "f2measure_tf_idf = ((5*overall_precision_tf_idf) * overall_recall_tf_idf)/ ((4*overall_precision_tf_idf) + overall_recall_tf_idf)\n"
   ]
  },
  {
   "cell_type": "code",
   "execution_count": 27,
   "id": "b763358b",
   "metadata": {},
   "outputs": [],
   "source": [
    "# Convert to percentages\n",
    "overall_precision_doc2vec_percent = overall_precision_doc2vec * 100\n",
    "overall_recall_doc2vec_percent = overall_recall_doc2vec * 100\n",
    "f2measure_doc2vec_percent = f2measure_doc2vec * 100\n",
    "\n",
    "overall_precision_tf_idf_percent = overall_precision_tf_idf * 100\n",
    "overall_recall_tf_idf_percent = overall_recall_tf_idf * 100\n",
    "f2measure_tf_idf_percent = f2measure_tf_idf * 100"
   ]
  },
  {
   "cell_type": "code",
   "execution_count": 28,
   "id": "fd2f519b",
   "metadata": {},
   "outputs": [
    {
     "name": "stdout",
     "output_type": "stream",
     "text": [
      "precision:  8.40955031992329 recall:  52.555590526651876 F2 measure:  25.638092597211145\n"
     ]
    }
   ],
   "source": [
    "#Precision and Recall: doc2vec \n",
    "print(\"precision: \",  overall_precision_doc2vec,  \"recall: \",  overall_recall_doc2vec, 'F2 measure: ', f2measure_doc2vec)"
   ]
  },
  {
   "cell_type": "code",
   "execution_count": 29,
   "id": "20a8ebf1",
   "metadata": {},
   "outputs": [
    {
     "name": "stdout",
     "output_type": "stream",
     "text": [
      "precision:  15.076720339670432  recall:  56.67478536950782 F2 measure:  36.52152996384902\n"
     ]
    }
   ],
   "source": [
    "#Precision and Recall: tf-idf\n",
    "print(\"precision: \",  overall_precision_tf_idf,  \" recall: \",  overall_recall_tf_idf, 'F2 measure: ', f2measure_tf_idf)"
   ]
  },
  {
   "cell_type": "code",
   "execution_count": 30,
   "id": "d2603a15",
   "metadata": {},
   "outputs": [],
   "source": [
    "data = [\n",
    "    {\n",
    "        \"Model\": \"Doc2Vec\",\n",
    "        \"Precision\": overall_precision_doc2vec,\n",
    "        \"Recall\": overall_recall_doc2vec,\n",
    "        \"F2 Measure\": f2measure_doc2vec,\n",
    "    },\n",
    "    {\n",
    "        \"Model\": \"TF-IDF\",\n",
    "        \"Precision\": overall_precision_tf_idf,\n",
    "        \"Recall\": overall_recall_tf_idf,\n",
    "        \"F2 Measure\": f2measure_tf_idf,\n",
    "    },\n",
    "]"
   ]
  },
  {
   "cell_type": "code",
   "execution_count": 31,
   "id": "eed9958e",
   "metadata": {},
   "outputs": [],
   "source": [
    "performace_df = pd.DataFrame(data)\n"
   ]
  },
  {
   "cell_type": "code",
   "execution_count": 32,
   "id": "9b6fe37b",
   "metadata": {},
   "outputs": [
    {
     "data": {
      "text/html": [
       "<div>\n",
       "<style scoped>\n",
       "    .dataframe tbody tr th:only-of-type {\n",
       "        vertical-align: middle;\n",
       "    }\n",
       "\n",
       "    .dataframe tbody tr th {\n",
       "        vertical-align: top;\n",
       "    }\n",
       "\n",
       "    .dataframe thead th {\n",
       "        text-align: right;\n",
       "    }\n",
       "</style>\n",
       "<table border=\"1\" class=\"dataframe\">\n",
       "  <thead>\n",
       "    <tr style=\"text-align: right;\">\n",
       "      <th></th>\n",
       "      <th>Model</th>\n",
       "      <th>Precision</th>\n",
       "      <th>Recall</th>\n",
       "      <th>F2 Measure</th>\n",
       "    </tr>\n",
       "  </thead>\n",
       "  <tbody>\n",
       "    <tr>\n",
       "      <th>0</th>\n",
       "      <td>Doc2Vec</td>\n",
       "      <td>8.40955</td>\n",
       "      <td>52.555591</td>\n",
       "      <td>25.638093</td>\n",
       "    </tr>\n",
       "    <tr>\n",
       "      <th>1</th>\n",
       "      <td>TF-IDF</td>\n",
       "      <td>15.07672</td>\n",
       "      <td>56.674785</td>\n",
       "      <td>36.521530</td>\n",
       "    </tr>\n",
       "  </tbody>\n",
       "</table>\n",
       "</div>"
      ],
      "text/plain": [
       "     Model  Precision     Recall  F2 Measure\n",
       "0  Doc2Vec    8.40955  52.555591   25.638093\n",
       "1   TF-IDF   15.07672  56.674785   36.521530"
      ]
     },
     "execution_count": 32,
     "metadata": {},
     "output_type": "execute_result"
    }
   ],
   "source": [
    "performace_df"
   ]
  }
 ],
 "metadata": {
  "kernelspec": {
   "display_name": "Python 3 (ipykernel)",
   "language": "python",
   "name": "python3"
  },
  "language_info": {
   "codemirror_mode": {
    "name": "ipython",
    "version": 3
   },
   "file_extension": ".py",
   "mimetype": "text/x-python",
   "name": "python",
   "nbconvert_exporter": "python",
   "pygments_lexer": "ipython3",
   "version": "3.9.7"
  }
 },
 "nbformat": 4,
 "nbformat_minor": 5
}
