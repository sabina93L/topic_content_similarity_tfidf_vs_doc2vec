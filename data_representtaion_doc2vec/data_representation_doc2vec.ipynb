{
 "cells": [
  {
   "cell_type": "code",
   "execution_count": 5,
   "id": "11c93984",
   "metadata": {},
   "outputs": [],
   "source": [
    "import pandas as pd\n",
    "import numpy as np\n"
   ]
  },
  {
   "cell_type": "code",
   "execution_count": 7,
   "id": "ad83bd37",
   "metadata": {},
   "outputs": [],
   "source": [
    "#Load translated topics and content datasets\n",
    "content = pd.read_csv(\"content_translated_final.csv\")\n",
    "topics = pd.read_csv(\"topics_final.csv\")"
   ]
  },
  {
   "cell_type": "code",
   "execution_count": 11,
   "id": "cf9ce96d",
   "metadata": {},
   "outputs": [],
   "source": [
    "# replace NaN values with an empty string\n",
    "content['title'].fillna('', inplace=True)\n",
    "content['description'].fillna('', inplace=True)\n",
    "content['text'].fillna('', inplace=True)\n",
    "content['kind'].fillna('', inplace=True)\n",
    "\n",
    "topics['title'].fillna('', inplace=True)\n",
    "topics['description'].fillna('', inplace=True)"
   ]
  },
  {
   "cell_type": "markdown",
   "id": "c72fd5ea",
   "metadata": {},
   "source": [
    "topics representation (title, description, and title of it's parent, and grandparent)"
   ]
  },
  {
   "cell_type": "code",
   "execution_count": 12,
   "id": "da961007",
   "metadata": {},
   "outputs": [],
   "source": [
    "def generate_combined_text(topics):\n",
    "    combined_texts = []\n",
    "\n",
    "    for index, row in topics.iterrows():\n",
    "        child = row\n",
    "        parent_id = child['parent']\n",
    "\n",
    "        child_text = f\"{child['title']} {child['description']}\"\n",
    "\n",
    "        if parent_id != 'NaN':\n",
    "            parent = topics[topics['id'] == parent_id]\n",
    "\n",
    "            if not parent.empty:\n",
    "                parent_title = parent['title'].values[0]\n",
    "                child_text += f\" {parent_title}\"\n",
    "\n",
    "                grandparent_id = parent['parent'].values[0]\n",
    "                if grandparent_id != 'NaN':\n",
    "                    grandparent = topics[topics['id'] == grandparent_id]\n",
    "\n",
    "                    if not grandparent.empty:\n",
    "                        grandparent_title = grandparent['title'].values[0]\n",
    "                        child_text += f\" {grandparent_title}\"\n",
    "                        \n",
    "                        greatgrandparent_id = grandparent['parent'].values[0]\n",
    "                        if greatgrandparent_id != 'NaN':\n",
    "                            greatgrandparent = topics[topics['id'] == greatgrandparent_id]\n",
    "\n",
    "                            if not greatgrandparent.empty:\n",
    "                                greatgrandparent_title = greatgrandparent['title'].values[0]\n",
    "                                child_text += f\" {greatgrandparent_title}\"\n",
    "\n",
    "        combined_texts.append(child_text)\n",
    "\n",
    "    return combined_texts"
   ]
  },
  {
   "cell_type": "code",
   "execution_count": 13,
   "id": "f8c9ce1a",
   "metadata": {},
   "outputs": [],
   "source": [
    "topics['combined_text'] = generate_combined_text(topics)"
   ]
  },
  {
   "cell_type": "markdown",
   "id": "8b96122e",
   "metadata": {},
   "source": [
    "content representation"
   ]
  },
  {
   "cell_type": "code",
   "execution_count": 17,
   "id": "6cc784f9",
   "metadata": {},
   "outputs": [],
   "source": [
    "def preprocess_content_text(content):\n",
    "    content_text = content['title'] + ' ' + np.where(\n",
    "        (content['description'] == ''),\n",
    "        content['text'] + ' ' + content['kind'],\n",
    "        content['description'] + ' ' + content['kind']\n",
    "    )\n",
    "    return content_text"
   ]
  },
  {
   "cell_type": "code",
   "execution_count": 18,
   "id": "166b5c9b",
   "metadata": {},
   "outputs": [],
   "source": [
    "content['combined_text'] = preprocess_content_text(content)"
   ]
  },
  {
   "cell_type": "code",
   "execution_count": 20,
   "id": "5f1096fb",
   "metadata": {},
   "outputs": [],
   "source": [
    "# keep topics where has_content is True\n",
    "topics = topics[topics['has_content'] == True].reset_index(drop=True)"
   ]
  },
  {
   "cell_type": "code",
   "execution_count": 22,
   "id": "dc5aa6e2",
   "metadata": {},
   "outputs": [],
   "source": [
    "# save topics and content\n",
    "topics.to_csv('topics_doc2vec.csv', index=False)\n",
    "content.to_csv('content_doc2vec.csv', index=False)"
   ]
  }
 ],
 "metadata": {
  "kernelspec": {
   "display_name": "Python 3 (ipykernel)",
   "language": "python",
   "name": "python3"
  },
  "language_info": {
   "codemirror_mode": {
    "name": "ipython",
    "version": 3
   },
   "file_extension": ".py",
   "mimetype": "text/x-python",
   "name": "python",
   "nbconvert_exporter": "python",
   "pygments_lexer": "ipython3",
   "version": "3.9.7"
  }
 },
 "nbformat": 4,
 "nbformat_minor": 5
}
